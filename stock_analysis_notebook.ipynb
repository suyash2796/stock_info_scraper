{
 "cells": [
  {
   "cell_type": "code",
   "execution_count": 1,
   "metadata": {},
   "outputs": [],
   "source": [
    "import numpy as np\n",
    "import pandas as pd\n",
    "import requests\n",
    "from bs4 import BeautifulSoup\n",
    "import bs4\n",
    "from fastnumbers import isfloat \n",
    "from fastnumbers import fast_float\n",
    "from multiprocessing.dummy import Pool as ThreadPool\n",
    "from IPython.core.display import HTML\n",
    "import matplotlib.pyplot as plt\n",
    "import seaborn as sns\n",
    "import json\n",
    "from tidylib import tidy_document\n",
    "\n",
    "sns.set_style('whitegrid')\n",
    "%matplotlib inline\n",
    "from IPython.core.interactiveshell import InteractiveShell\n",
    "InteractiveShell.ast_node_interactivity = \"all\""
   ]
  },
  {
   "cell_type": "code",
   "execution_count": 2,
   "metadata": {},
   "outputs": [],
   "source": [
    "def ffloat(string):\n",
    "    if string is None:\n",
    "        return np.nan\n",
    "    if type(string)==float or type(string)==np.float64:\n",
    "        return string\n",
    "    if type(string)==int or type(string)==np.int64:\n",
    "        return string\n",
    "    return fast_float(string.split(\" \")[0].replace(',','').replace('%',''),\n",
    "                      default=np.nan)\n",
    "\n",
    "def ffloat_list(string_list):\n",
    "    return list(map(ffloat,string_list))\n",
    "\n",
    "def remove_multiple_spaces(string):\n",
    "    if type(string)==str:\n",
    "        return ' '.join(string.split())\n",
    "    return string"
   ]
  },
  {
   "cell_type": "code",
   "execution_count": 3,
   "metadata": {},
   "outputs": [],
   "source": [
    "def request_with_check(url):\n",
    "    page_response = requests.get(url, timeout=240)\n",
    "    status = page_response.status_code\n",
    "    if status>299:\n",
    "        raise AssertionError(\"page content not found, status: %s\"%status)\n",
    "    return page_response"
   ]
  },
  {
   "cell_type": "code",
   "execution_count": 4,
   "metadata": {},
   "outputs": [
    {
     "data": {
      "text/plain": [
       "<Response [200]>"
      ]
     },
     "execution_count": 4,
     "metadata": {},
     "output_type": "execute_result"
    }
   ],
   "source": [
    "request_with_check(\"https://www.moneycontrol.com/stocksmarketsindia/\")"
   ]
  },
  {
   "cell_type": "code",
   "execution_count": 21,
   "metadata": {},
   "outputs": [
    {
     "data": {
      "text/html": [
       "<div class=\"tab-pane active in fade\" id=\"maindindi\">\n",
       "<div class=\"marketatc_actcont\">\n",
       "<table cellpadding=\"0\" cellspacing=\"0\" class=\"mctable1\" width=\"100%\">\n",
       "<thead>\n",
       "<tr>\n",
       "<th>Index</th>\n",
       "<th>Price</th>\n",
       "<th>Change</th>\n",
       "<th>%Chg</th>\n",
       "</tr>\n",
       "</thead>\n",
       "<tbody>\n",
       "<tr>\n",
       "<td class=\"tdgreen\"><a class=\"robo_medium\" href=\"/indian-indices/nifty-50-9.html\" target=\"_blank\">NIFTY 50</a></td>\n",
       "<td>11214.00</td>\n",
       "<td class=\"tbl_greentxt\">13.80</td>\n",
       "<td class=\"tbl_greentxt\">0.12</td>\n",
       "</tr>\n",
       "<tr>\n",
       "<td class=\"tdgreen\"><a class=\"robo_medium\" href=\"/indian-indices/bse-sensex-4.html\" target=\"_blank\">SENSEX</a></td>\n",
       "<td>38040.57</td>\n",
       "<td class=\"tbl_greentxt\">15.12</td>\n",
       "<td class=\"tbl_greentxt\">0.04</td>\n",
       "</tr>\n",
       "<tr>\n",
       "<td class=\"tdgreen\"><a class=\"robo_medium\" href=\"/indian-indices/nifty-bank-23.html\" target=\"_blank\">NIFTY BANK</a></td>\n",
       "<td>21754.00</td>\n",
       "<td class=\"tbl_greentxt\">111.40</td>\n",
       "<td class=\"tbl_greentxt\">0.51</td>\n",
       "</tr>\n",
       "<tr>\n",
       "<td class=\"tdred\"><a class=\"robo_medium\" href=\"/indian-indices/nifty-it-19.html\" target=\"_blank\">NIFTY IT</a></td>\n",
       "<td>18004.15</td>\n",
       "<td class=\"tbl_redtxt\">-184.65</td>\n",
       "<td class=\"tbl_redtxt\">-1.02</td>\n",
       "</tr>\n",
       "<tr>\n",
       "<td class=\"tdgreen\"><a class=\"robo_medium\" href=\"/indian-indices/bse-smallcap-26.html\" target=\"_blank\">S&amp;P BSE Smallcap</a></td>\n",
       "<td>13668.69</td>\n",
       "<td class=\"tbl_greentxt\">106.46</td>\n",
       "<td class=\"tbl_greentxt\">0.78</td>\n",
       "</tr>\n",
       "</tbody>\n",
       "</table>\n",
       "</div>\n",
       "<div class=\"viewmore\"><a href=\"https://www.moneycontrol.com/markets/indian-indices/\" target=\"_blank\" title=\"View More\"> View More <span class=\"viewarw\"></span></a></div>\n",
       "</div>"
      ],
      "text/plain": [
       "<IPython.core.display.HTML object>"
      ]
     },
     "execution_count": 21,
     "metadata": {},
     "output_type": "execute_result"
    }
   ],
   "source": [
    "page_response = requests.get(\"https://www.moneycontrol.com/stocksmarketsindia/\", timeout=240)\n",
    "page_content = BeautifulSoup(page_response.content, \"html.parser\")\n",
    "tbl = str(page_content.find(\"div\",attrs={'id':\"maindindi\"}))\n",
    "HTML(tbl)\n"
   ]
  },
  {
   "cell_type": "code",
   "execution_count": 22,
   "metadata": {},
   "outputs": [
    {
     "data": {
      "text/html": [
       "<div>\n",
       "<style scoped>\n",
       "    .dataframe tbody tr th:only-of-type {\n",
       "        vertical-align: middle;\n",
       "    }\n",
       "\n",
       "    .dataframe tbody tr th {\n",
       "        vertical-align: top;\n",
       "    }\n",
       "\n",
       "    .dataframe thead th {\n",
       "        text-align: right;\n",
       "    }\n",
       "</style>\n",
       "<table border=\"1\" class=\"dataframe\">\n",
       "  <thead>\n",
       "    <tr style=\"text-align: right;\">\n",
       "      <th></th>\n",
       "      <th>Index</th>\n",
       "      <th>Price</th>\n",
       "      <th>Change</th>\n",
       "      <th>%Chg</th>\n",
       "    </tr>\n",
       "  </thead>\n",
       "  <tbody>\n",
       "    <tr>\n",
       "      <th>0</th>\n",
       "      <td>NIFTY 50</td>\n",
       "      <td>11214.00</td>\n",
       "      <td>13.80</td>\n",
       "      <td>0.12</td>\n",
       "    </tr>\n",
       "    <tr>\n",
       "      <th>1</th>\n",
       "      <td>SENSEX</td>\n",
       "      <td>38040.57</td>\n",
       "      <td>15.12</td>\n",
       "      <td>0.04</td>\n",
       "    </tr>\n",
       "    <tr>\n",
       "      <th>2</th>\n",
       "      <td>NIFTY BANK</td>\n",
       "      <td>21754.00</td>\n",
       "      <td>111.40</td>\n",
       "      <td>0.51</td>\n",
       "    </tr>\n",
       "    <tr>\n",
       "      <th>3</th>\n",
       "      <td>NIFTY IT</td>\n",
       "      <td>18004.15</td>\n",
       "      <td>-184.65</td>\n",
       "      <td>-1.02</td>\n",
       "    </tr>\n",
       "    <tr>\n",
       "      <th>4</th>\n",
       "      <td>S&amp;P BSE Smallcap</td>\n",
       "      <td>13668.69</td>\n",
       "      <td>106.46</td>\n",
       "      <td>0.78</td>\n",
       "    </tr>\n",
       "  </tbody>\n",
       "</table>\n",
       "</div>"
      ],
      "text/plain": [
       "              Index     Price  Change  %Chg\n",
       "0          NIFTY 50  11214.00   13.80  0.12\n",
       "1            SENSEX  38040.57   15.12  0.04\n",
       "2        NIFTY BANK  21754.00  111.40  0.51\n",
       "3          NIFTY IT  18004.15 -184.65 -1.02\n",
       "4  S&P BSE Smallcap  13668.69  106.46  0.78"
      ]
     },
     "execution_count": 22,
     "metadata": {},
     "output_type": "execute_result"
    }
   ],
   "source": [
    "data_frame = pd.read_html(tbl)[0]\n",
    "data_frame"
   ]
  }
 ],
 "metadata": {
  "kernelspec": {
   "display_name": "Python 3",
   "language": "python",
   "name": "python3"
  },
  "language_info": {
   "codemirror_mode": {
    "name": "ipython",
    "version": 3
   },
   "file_extension": ".py",
   "mimetype": "text/x-python",
   "name": "python",
   "nbconvert_exporter": "python",
   "pygments_lexer": "ipython3",
   "version": "3.7.3"
  }
 },
 "nbformat": 4,
 "nbformat_minor": 2
}
